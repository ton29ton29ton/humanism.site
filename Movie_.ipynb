{
  "cells": [
    {
      "cell_type": "markdown",
      "metadata": {
        "id": "view-in-github",
        "colab_type": "text"
      },
      "source": [
        "<a href=\"https://colab.research.google.com/github/ton29ton29ton/humanism.site/blob/main/Movie_.ipynb\" target=\"_parent\"><img src=\"https://colab.research.google.com/assets/colab-badge.svg\" alt=\"Open In Colab\"/></a>"
      ]
    },
    {
      "cell_type": "code",
      "execution_count": null,
      "metadata": {
        "colab": {
          "base_uri": "https://localhost:8080/"
        },
        "id": "LJA25fEliqu-",
        "outputId": "7ceee369-454b-4271-f3d6-c07ce86f144b"
      },
      "outputs": [
        {
          "output_type": "stream",
          "name": "stdout",
          "text": [
            "Drive already mounted at /content/drive; to attempt to forcibly remount, call drive.mount(\"/content/drive\", force_remount=True).\n",
            "🔗 動画またはプレイリストのURLを入力してください:\n",
            "https://youtu.be/RWTBCZAwOSI?si=wziEr0bkVKh5amI0\n",
            "🎵 MP3 or 🎥 MP4 を選んでください（mp3 / mp4）: Mp3\n",
            "🎧 音質を選んでください（最高 / 中 / 最低）: 最高\n",
            "📁 Google Driveの保存フォルダ名を入力してください: Live Core\n",
            "🧹 ファイル名から削除したい語句（カンマ区切り）: \n",
            "[youtube] Extracting URL: https://youtu.be/RWTBCZAwOSI?si=wziEr0bkVKh5amI0\n",
            "[youtube] RWTBCZAwOSI: Downloading webpage\n",
            "[youtube] RWTBCZAwOSI: Downloading tv client config\n",
            "[youtube] RWTBCZAwOSI: Downloading tv player API JSON\n",
            "[youtube] RWTBCZAwOSI: Downloading ios player API JSON\n",
            "[youtube] RWTBCZAwOSI: Downloading player 94f771d8-main\n",
            "[youtube] RWTBCZAwOSI: Downloading m3u8 information\n",
            "[info] RWTBCZAwOSI: Downloading 1 format(s): 251\n",
            "[download] Destination: /content/downloads/【公式】尾崎豊 「太陽の破片」 (LIVE CORE IN TOKYO DOME 1988・9・12)【7thシングル】 YUTAKA OZAKI／Taiyo No Hahen.webm\n",
            "[download] 100% of    7.42MiB in 00:00:00 at 21.88MiB/s  \n",
            "[ExtractAudio] Destination: /content/downloads/【公式】尾崎豊 「太陽の破片」 (LIVE CORE IN TOKYO DOME 1988・9・12)【7thシングル】 YUTAKA OZAKI／Taiyo No Hahen.mp3\n",
            "Deleting original file /content/downloads/【公式】尾崎豊 「太陽の破片」 (LIVE CORE IN TOKYO DOME 1988・9・12)【7thシングル】 YUTAKA OZAKI／Taiyo No Hahen.webm (pass -k to keep)\n",
            "\n",
            "✅ 完了！Google Drive に保存されました → /MyDrive/Live Core\n"
          ]
        }
      ],
      "source": [
        "\n",
        "# --- 必要ライブラリとGoogle Driveマウント ---\n",
        "!pip install yt-dlp ffmpeg-python -q\n",
        "from google.colab import drive\n",
        "import os, shutil, re\n",
        "import yt_dlp\n",
        "\n",
        "# Google Drive マウント（既にマウント済ならスキップ）\n",
        "try:\n",
        "    drive.mount('/content/drive')\n",
        "except:\n",
        "    print(\"✅ Google Drive はすでにマウントされています。\")\n",
        "\n",
        "# --- ユーザー入力受付 ---\n",
        "url = input(\"🔗 動画またはプレイリストのURLを入力してください:\\n\").strip()\n",
        "\n",
        "mode = input(\"🎵 MP3 or 🎥 MP4 を選んでください（mp3 / mp4）: \").strip().lower()\n",
        "if mode not in [\"mp3\", \"mp4\"]:\n",
        "    print(\"❌ 無効な形式です。mp3 または mp4 を選んでください。\")\n",
        "    raise SystemExit\n",
        "\n",
        "if mode == \"mp3\":\n",
        "    audio_quality = input(\"🎧 音質を選んでください（最高 / 中 / 最低）: \").strip()\n",
        "    quality_map = {\"最高\": \"0\", \"中\": \"5\", \"最低\": \"9\"}\n",
        "    audio_quality_code = quality_map.get(audio_quality, \"0\")\n",
        "else:\n",
        "    video_quality = input(\"📺 動画画質を指定してください（例：best, 1080, 720, 480, 360 など）: \").strip()\n",
        "    if video_quality.isdigit():\n",
        "        format_code = f\"bestvideo[height<={video_quality}]+bestaudio/best\"\n",
        "    else:\n",
        "        format_code = \"best\"\n",
        "\n",
        "folder_name = input(\"📁 Google Driveの保存フォルダ名を入力してください: \").strip() or \"DL_Files\"\n",
        "keywords_raw = input(\"🧹 ファイル名から削除したい語句（カンマ区切り）: \").strip()\n",
        "remove_keywords = [kw.strip() for kw in keywords_raw.split(\",\") if kw.strip()]\n",
        "\n",
        "# --- 作業ディレクトリの準備 ---\n",
        "download_dir = \"/content/downloads\"\n",
        "if os.path.exists(download_dir):\n",
        "    shutil.rmtree(download_dir)\n",
        "os.makedirs(download_dir, exist_ok=True)\n",
        "\n",
        "# --- yt-dlp オプションの構築 ---\n",
        "outtmpl = f'{download_dir}/%(title)s.%(ext)s'\n",
        "postprocessors = []\n",
        "\n",
        "if mode == \"mp3\":\n",
        "    postprocessors = [{\n",
        "        'key': 'FFmpegExtractAudio',\n",
        "        'preferredcodec': 'mp3',\n",
        "        'preferredquality': audio_quality_code,\n",
        "    }]\n",
        "    format_code = \"bestaudio\"\n",
        "\n",
        "ydl_opts = {\n",
        "    'format': format_code,\n",
        "    'outtmpl': outtmpl,\n",
        "    'postprocessors': postprocessors,\n",
        "    'quiet': False,\n",
        "    'ignoreerrors': True,\n",
        "    'noplaylist': False,\n",
        "}\n",
        "\n",
        "# --- ダウンロード処理 ---\n",
        "with yt_dlp.YoutubeDL(ydl_opts) as ydl:\n",
        "    ydl.download([url])\n",
        "\n",
        "# --- ファイル名整形（不要語句・空白・番号などを除去） ---\n",
        "for file in os.listdir(download_dir):\n",
        "    if mode == \"mp3\" and not file.lower().endswith(\".mp3\"):\n",
        "        continue\n",
        "    if mode == \"mp4\" and not file.lower().endswith(\".mp4\"):\n",
        "        continue\n",
        "\n",
        "    old_path = os.path.join(download_dir, file)\n",
        "    name = file\n",
        "\n",
        "    name = re.sub(r'^\\d+\\s*-\\s*', '', name)  # 先頭番号削除\n",
        "    for kw in remove_keywords:\n",
        "        name = name.replace(kw, '')\n",
        "    name = re.sub(r'[\\s\\u3000]+', '', name)  # 空白削除\n",
        "\n",
        "    new_path = os.path.join(download_dir, name.strip())\n",
        "    os.rename(old_path, new_path)\n",
        "\n",
        "# --- Google Driveへ保存 ---\n",
        "drive_target_path = f\"/content/drive/MyDrive/{folder_name}\"\n",
        "os.makedirs(drive_target_path, exist_ok=True)\n",
        "\n",
        "for file in os.listdir(download_dir):\n",
        "    shutil.copy(os.path.join(download_dir, file), os.path.join(drive_target_path, file))\n",
        "\n",
        "print(f\"\\n✅ 完了！Google Drive に保存されました → /MyDrive/{folder_name}\")"
      ]
    },
    {
      "cell_type": "code",
      "source": [],
      "metadata": {
        "id": "3itMZ1NtMk4x"
      },
      "execution_count": null,
      "outputs": []
    }
  ],
  "metadata": {
    "colab": {
      "provenance": [],
      "authorship_tag": "ABX9TyMcfYCgluhDSLyJaz6EzXJX",
      "include_colab_link": true
    },
    "kernelspec": {
      "display_name": "Python 3",
      "name": "python3"
    },
    "language_info": {
      "name": "python"
    }
  },
  "nbformat": 4,
  "nbformat_minor": 0
}